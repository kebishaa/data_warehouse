{
 "cells": [
  {
   "cell_type": "code",
   "execution_count": 1,
   "id": "410a4665",
   "metadata": {},
   "outputs": [],
   "source": [
    "import pandas as pd\n",
    "import sys\n",
    "sys.path.append(\"../scripts/\")\n",
    "from extractor import DataExtractor"
   ]
  },
  {
   "cell_type": "code",
   "execution_count": 2,
   "id": "ad2d5644",
   "metadata": {},
   "outputs": [],
   "source": [
    "data_extractor=DataExtractor()"
   ]
  },
  {
   "cell_type": "code",
   "execution_count": 3,
   "id": "1d86a38c",
   "metadata": {},
   "outputs": [],
   "source": [
    "with open('../data/20181024_d1_0830_0900.csv','r') as f:\n",
    "    lines=f.readlines()\n",
    "\n",
    "columns=lines[0].replace('\\n','').split(';')\n",
    "data=lines[1:]"
   ]
  },
  {
   "cell_type": "code",
   "execution_count": 4,
   "id": "487f3b49",
   "metadata": {},
   "outputs": [
    {
     "data": {
      "text/plain": [
       "['track_id', ' type', ' traveled_d', ' avg_speed']"
      ]
     },
     "execution_count": 4,
     "metadata": {},
     "output_type": "execute_result"
    }
   ],
   "source": [
    "columns[:4]"
   ]
  },
  {
   "cell_type": "code",
   "execution_count": 5,
   "id": "353a3e6e",
   "metadata": {},
   "outputs": [
    {
     "data": {
      "text/plain": [
       "[' lat', ' lon', ' speed', ' lon_acc', ' lat_acc', ' time']"
      ]
     },
     "execution_count": 5,
     "metadata": {},
     "output_type": "execute_result"
    }
   ],
   "source": [
    "columns[4:]"
   ]
  },
  {
   "cell_type": "code",
   "execution_count": null,
   "id": "4793f2fa",
   "metadata": {},
   "outputs": [],
   "source": []
  }
 ],
 "metadata": {
  "kernelspec": {
   "display_name": "Python 3 (ipykernel)",
   "language": "python",
   "name": "python3"
  },
  "language_info": {
   "codemirror_mode": {
    "name": "ipython",
    "version": 3
   },
   "file_extension": ".py",
   "mimetype": "text/x-python",
   "name": "python",
   "nbconvert_exporter": "python",
   "pygments_lexer": "ipython3",
   "version": "3.9.12"
  }
 },
 "nbformat": 4,
 "nbformat_minor": 5
}
