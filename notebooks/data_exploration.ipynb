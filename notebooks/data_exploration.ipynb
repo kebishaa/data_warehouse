{
 "cells": [
  {
   "cell_type": "code",
   "execution_count": 1,
   "id": "d9c63304",
   "metadata": {},
   "outputs": [],
   "source": [
    "import pandas as pd\n",
    "import sys\n",
    "sys.path.append(\"../scripts/\")\n",
    "from extractor import DataExtractor"
   ]
  },
  {
   "cell_type": "code",
   "execution_count": 2,
   "id": "2cd10d33",
   "metadata": {},
   "outputs": [],
   "source": [
    "data_extractor=DataExtractor()"
   ]
  },
  {
   "cell_type": "code",
   "execution_count": 3,
   "id": "4f6aab71",
   "metadata": {},
   "outputs": [],
   "source": [
    "with open('../data/20181024_d1_0830_0900.csv','r') as f:\n",
    "    lines=f.readlines()\n",
    "\n",
    "columns=lines[0].replace('\\n','').split(';')\n",
    "data=lines[1:]"
   ]
  },
  {
   "cell_type": "code",
   "execution_count": 4,
   "id": "73ed969c",
   "metadata": {},
   "outputs": [
    {
     "data": {
      "text/plain": [
       "['track_id', ' type', ' traveled_d', ' avg_speed']"
      ]
     },
     "execution_count": 4,
     "metadata": {},
     "output_type": "execute_result"
    }
   ],
   "source": [
    "columns[:4]"
   ]
  },
  {
   "cell_type": "code",
   "execution_count": 5,
   "id": "464df21c",
   "metadata": {},
   "outputs": [
    {
     "data": {
      "text/plain": [
       "[' lat', ' lon', ' speed', ' lon_acc', ' lat_acc', ' time']"
      ]
     },
     "execution_count": 5,
     "metadata": {},
     "output_type": "execute_result"
    }
   ],
   "source": [
    "columns[4:]"
   ]
  },
  {
   "cell_type": "code",
   "execution_count": 7,
   "id": "171af1ca",
   "metadata": {},
   "outputs": [],
   "source": [
    "def chunk_list(list,chunk_size,default_first_val=None):\n",
    "    chunked_list=[]\n",
    "    for i in range(0, len(list), chunk_size):\n",
    "        if default_first_val:\n",
    "            values=[default_first_val]\n",
    "            values.extend(list[i:i+chunk_size])\n",
    "            chunked_list.append(values)\n",
    "        else:\n",
    "            chunked_list.append(list[i:i+chunk_size])\n",
    "\n",
    "    return chunked_list"
   ]
  },
  {
   "cell_type": "code",
   "execution_count": 8,
   "id": "4aa1261c",
   "metadata": {},
   "outputs": [],
   "source": [
    "trajectory_cols=columns[:4]\n",
    "trajectory_rows=[]\n",
    "\n",
    "timed_vehicle_cols=['track_id']+columns[4:]\n",
    "timed_vehicle_rows=[]\n",
    "\n",
    "for row in data:\n",
    "    items=row.replace('\\n','').split(';')\n",
    "    trajectory_rows.append(items[:4])\n",
    "    timed_vehicle_rows.extend(chunk_list(items[4:],6,items[0]))"
   ]
  },
  {
   "cell_type": "code",
   "execution_count": null,
   "id": "0785caed",
   "metadata": {},
   "outputs": [],
   "source": []
  }
 ],
 "metadata": {
  "kernelspec": {
   "display_name": "Python 3 (ipykernel)",
   "language": "python",
   "name": "python3"
  },
  "language_info": {
   "codemirror_mode": {
    "name": "ipython",
    "version": 3
   },
   "file_extension": ".py",
   "mimetype": "text/x-python",
   "name": "python",
   "nbconvert_exporter": "python",
   "pygments_lexer": "ipython3",
   "version": "3.9.12"
  }
 },
 "nbformat": 4,
 "nbformat_minor": 5
}
